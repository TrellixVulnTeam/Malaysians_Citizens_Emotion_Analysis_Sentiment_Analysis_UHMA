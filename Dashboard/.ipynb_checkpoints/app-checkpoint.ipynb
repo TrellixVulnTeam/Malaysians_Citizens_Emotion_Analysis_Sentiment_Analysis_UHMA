{
 "cells": [
  {
   "cell_type": "code",
   "execution_count": 1,
   "metadata": {},
   "outputs": [],
   "source": [
    "import dash\n",
    "import dash_core_components as dcc\n",
    "import dash_html_components as html\n",
    "import pandas as pd\n",
    "import plotly.express as px"
   ]
  },
  {
   "cell_type": "code",
   "execution_count": 2,
   "metadata": {},
   "outputs": [],
   "source": [
    "data = pd.read_csv(\"calculate_data.csv\")\n",
    "\n",
    "external_stylesheets = [\n",
    "    {\n",
    "        \"href\": \"https://fonts.googleapis.com/css2?\"\n",
    "        \"family=Lato:wght@400;700&display=swap\",\n",
    "        \"rel\": \"stylesheet\",\n",
    "    },\n",
    "]\n",
    "\n",
    "app = dash.Dash(__name__, external_stylesheets=external_stylesheets)\n",
    "app.title = \"Malaysian's Emotion Analysis During COVID-19 Outbreak\"\n",
    "app.layout = html.Div(\n",
    "    children=[\n",
    "        html.Div(\n",
    "            children=[\n",
    "                html.P(children=\"🥑\", className=\"header-emoji\"),\n",
    "                html.H1(\n",
    "                    children=\"Malaysians Emotion Analysis During COVID-19 Outbreak\", className=\"header-title\"\n",
    "                ),\n",
    "                html.P(\n",
    "                    children=\"Analyse the emotions of malaysians\"\n",
    "                    \" by using sentiment analysis\"\n",
    "                    \" during COVID-19 Outbreak in Twitter\",\n",
    "                    className=\"header-description\",\n",
    "                ),\n",
    "            ],\n",
    "            className=\"header\",\n",
    "        ),\n",
    "        html.Div(\n",
    "            children=[\n",
    "                html.Div(\n",
    "                    children=dcc.Graph(\n",
    "                        id=\"price-chart\",\n",
    "                        config={\"displayModeBar\": False},\n",
    "                        figure={\n",
    "                            \"data\": [\n",
    "                                {\n",
    "                                    \"x\": data[\"emotions\"],\n",
    "                                    \"y\": data[\"percentage\"],\n",
    "                                    \"type\": \"lines\",\n",
    "                                    \"hovertemplate\": \"$%{y:.2f}\"\n",
    "                                                     \"<extra></extra>\",\n",
    "                                },\n",
    "                            ],\n",
    "                            \"layout\": {\n",
    "                                \"title\": {\n",
    "                                    \"text\": \"Percentage of Emotion Among Malaysians During COVID-19 Outbreak\",\n",
    "                                    \"x\": 0.05,\n",
    "                                    \"xanchor\": \"left\",\n",
    "                                },\n",
    "                                \"xaxis\": {\"fixedrange\": True},\n",
    "                                \"yaxis\": {\n",
    "                                    \"tickprefix\": \"$\",\n",
    "                                    \"fixedrange\": True,\n",
    "                                },\n",
    "                                \"colorway\": [\"#17B897\"],\n",
    "                            },\n",
    "                        },\n",
    "                    ),\n",
    "                    className=\"card\",\n",
    "                ),\n",
    "            ],\n",
    "            className=\"wrapper\",\n",
    "        ),\n",
    "    ]\n",
    ")"
   ]
  },
  {
   "cell_type": "code",
   "execution_count": null,
   "metadata": {
    "scrolled": true
   },
   "outputs": [
    {
     "name": "stdout",
     "output_type": "stream",
     "text": [
      "Dash is running on http://127.0.0.1:8050/\n",
      "\n",
      " * Serving Flask app '__main__' (lazy loading)\n",
      " * Environment: production\n",
      "\u001b[31m   WARNING: This is a development server. Do not use it in a production deployment.\u001b[0m\n",
      "\u001b[2m   Use a production WSGI server instead.\u001b[0m\n",
      " * Debug mode: off\n"
     ]
    },
    {
     "name": "stderr",
     "output_type": "stream",
     "text": [
      " * Running on http://127.0.0.1:8050/ (Press CTRL+C to quit)\n",
      "127.0.0.1 - - [23/Jul/2021 01:49:40] \"GET / HTTP/1.1\" 200 -\n",
      "127.0.0.1 - - [23/Jul/2021 01:49:40] \"GET /_dash-dependencies HTTP/1.1\" 200 -\n",
      "127.0.0.1 - - [23/Jul/2021 01:49:40] \"GET /_dash-layout HTTP/1.1\" 200 -\n",
      "127.0.0.1 - - [23/Jul/2021 01:49:40] \"GET /_dash-component-suites/dash_core_components/async-graph.js HTTP/1.1\" 200 -\n",
      "127.0.0.1 - - [23/Jul/2021 01:49:41] \"GET /_dash-component-suites/dash_core_components/async-plotlyjs.js HTTP/1.1\" 200 -\n"
     ]
    }
   ],
   "source": [
    "if __name__ == \"__main__\":\n",
    "    app.run_server(debug=False,\n",
    "                   host = '127.0.0.1')"
   ]
  },
  {
   "cell_type": "code",
   "execution_count": 5,
   "metadata": {},
   "outputs": [],
   "source": []
  },
  {
   "cell_type": "code",
   "execution_count": null,
   "metadata": {},
   "outputs": [],
   "source": []
  }
 ],
 "metadata": {
  "kernelspec": {
   "display_name": "Python 3",
   "language": "python",
   "name": "python3"
  },
  "language_info": {
   "codemirror_mode": {
    "name": "ipython",
    "version": 3
   },
   "file_extension": ".py",
   "mimetype": "text/x-python",
   "name": "python",
   "nbconvert_exporter": "python",
   "pygments_lexer": "ipython3",
   "version": "3.6.5"
  }
 },
 "nbformat": 4,
 "nbformat_minor": 2
}
